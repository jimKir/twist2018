{
 "cells": [
  {
   "cell_type": "code",
   "execution_count": 35,
   "metadata": {},
   "outputs": [],
   "source": [
    "import requests\n",
    "\n",
    "from bs4 import BeautifulSoup\n",
    "from tqdm import tqdm\n",
    "\n",
    "import warnings\n",
    "warnings.filterwarnings('ignore')"
   ]
  },
  {
   "cell_type": "code",
   "execution_count": 3,
   "metadata": {},
   "outputs": [],
   "source": [
    "# Headers for all requests\n",
    "headers = {\n",
    "                'User-Agent':\n",
    "                ('Mozilla/5.0 (Macintosh; Intel Mac OS X 10_11_3)'\n",
    "                 ' AppleWebKit/537.36 (KHTML, like Gecko) '\n",
    "                 'Chrome/48.0.2564.116 Safari/537.36')\n",
    "}"
   ]
  },
  {
   "cell_type": "markdown",
   "metadata": {},
   "source": [
    "#### Map options to query dict"
   ]
  },
  {
   "cell_type": "markdown",
   "metadata": {},
   "source": [
    "Map for einfamilienhäusern"
   ]
  },
  {
   "cell_type": "code",
   "execution_count": 5,
   "metadata": {},
   "outputs": [
    {
     "name": "stderr",
     "output_type": "stream",
     "text": [
      "/home/kirtan/anaconda3/lib/python3.6/site-packages/urllib3/connectionpool.py:858: InsecureRequestWarning: Unverified HTTPS request is being made. Adding certificate verification is strongly advised. See: https://urllib3.readthedocs.io/en/latest/advanced-usage.html#ssl-warnings\n",
      "  InsecureRequestWarning)\n"
     ]
    }
   ],
   "source": [
    "# base url for einfamilienhäusern\n",
    "einfamilienhäusern = 'https://www.web.statistik.zh.ch/cms_handaenderungen/index.php?app=efh'\n",
    "\n",
    "r = requests.get(einfamilienhäusern, headers=headers, verify=False)\n",
    "\n",
    "# getting the \n",
    "einfamilienhäusern_soup =  BeautifulSoup(r.content, 'html.parser')\n",
    "all_maps = einfamilienhäusern_soup.find_all('div', attrs = {'class':'auswahl'})\n",
    "\n",
    "einfamilienhäusern_dict = {}\n",
    "\n",
    "# final_dict for einfamilienhäusern\n",
    "for a_map in all_maps:\n",
    "    name = a_map.find('select')['name']\n",
    "    einfamilienhäusern_dict[name] = {}\n",
    "    for option in a_map.find_all('option'):\n",
    "        if(option['value'] != '-1'):\n",
    "            einfamilienhäusern_dict[name][option.text] = option['value']"
   ]
  },
  {
   "cell_type": "markdown",
   "metadata": {},
   "source": [
    "Map for eigentumswohnungen"
   ]
  },
  {
   "cell_type": "code",
   "execution_count": 6,
   "metadata": {},
   "outputs": [
    {
     "name": "stderr",
     "output_type": "stream",
     "text": [
      "/home/kirtan/anaconda3/lib/python3.6/site-packages/urllib3/connectionpool.py:858: InsecureRequestWarning: Unverified HTTPS request is being made. Adding certificate verification is strongly advised. See: https://urllib3.readthedocs.io/en/latest/advanced-usage.html#ssl-warnings\n",
      "  InsecureRequestWarning)\n"
     ]
    }
   ],
   "source": [
    "# base url for Eigentumswohnungen\n",
    "eigentumswohnungen = 'https://www.web.statistik.zh.ch/cms_handaenderungen/index.php?app=efh'\n",
    "\n",
    "r = requests.get(eigentumswohnungen, headers=headers, verify=False)\n",
    "\n",
    "# getting the \n",
    "eigentumswohnungen_soup =  BeautifulSoup(r.content, 'html.parser')\n",
    "all_maps = eigentumswohnungen_soup.find_all('div', attrs = {'class':'auswahl'})\n",
    "\n",
    "eigentumswohnungen_dict = {}\n",
    "\n",
    "# final_dict for eigentumswohnungen\n",
    "for a_map in all_maps:\n",
    "    name = a_map.find('select')['name']\n",
    "    eigentumswohnungen_dict[name] = {}\n",
    "    for option in a_map.find_all('option'):\n",
    "        if(option['value'] != '-1'):\n",
    "            eigentumswohnungen_dict[name][option.text] = option['value']"
   ]
  },
  {
   "cell_type": "code",
   "execution_count": 7,
   "metadata": {},
   "outputs": [
    {
     "data": {
      "text/plain": [
       "True"
      ]
     },
     "execution_count": 7,
     "metadata": {},
     "output_type": "execute_result"
    }
   ],
   "source": [
    "# We didn't need both, what a surprise, we get rid of one in the next cell\n",
    "eigentumswohnungen_dict == einfamilienhäusern_dict"
   ]
  },
  {
   "cell_type": "code",
   "execution_count": 17,
   "metadata": {},
   "outputs": [],
   "source": [
    "# the important dictionary\n",
    "query_dict = eigentumswohnungen_dict"
   ]
  },
  {
   "cell_type": "code",
   "execution_count": 18,
   "metadata": {},
   "outputs": [],
   "source": [
    "dict_list = list(query_dict)"
   ]
  },
  {
   "cell_type": "code",
   "execution_count": 19,
   "metadata": {},
   "outputs": [
    {
     "data": {
      "text/plain": [
       "['GEBIET',\n",
       " 'REGION',\n",
       " 'HANDLRAUM',\n",
       " 'VERKJAHR',\n",
       " 'ZIMMERK',\n",
       " 'BAUALTERK',\n",
       " 'FLAEK',\n",
       " 'ZONEK',\n",
       " 'PARZK',\n",
       " 'LAGE']"
      ]
     },
     "execution_count": 19,
     "metadata": {},
     "output_type": "execute_result"
    }
   ],
   "source": [
    "dict_list"
   ]
  },
  {
   "cell_type": "code",
   "execution_count": 14,
   "metadata": {},
   "outputs": [],
   "source": [
    "# parameters\n",
    "params = {'GEBIET': 0,\n",
    "'REGION': 0,\n",
    "'HANDLRAUM': 0,\n",
    "'app': 'app%3Defh',\n",
    "'VERKJAHR': 0,\n",
    "'ZIMMERK': 0,\n",
    "'BAUALTERK': 0,\n",
    "'FLAEK': 0,\n",
    "'ZONEK': 0,\n",
    "'PARZK': 0,\n",
    "'LAGE': 0}\n",
    "\n",
    "base_url = 'https://www.web.statistik.zh.ch/cms_handaenderungen/index.php?app=efh'\n",
    "result_url = 'https://www.web.statistik.zh.ch/cms_handaenderungen/includes/ajax_all_results.php'"
   ]
  },
  {
   "cell_type": "code",
   "execution_count": 15,
   "metadata": {},
   "outputs": [],
   "source": [
    "final_list = []"
   ]
  },
  {
   "cell_type": "code",
   "execution_count": 27,
   "metadata": {},
   "outputs": [
    {
     "data": {
      "text/plain": [
       "{'Alle Lagen': '0',\n",
       " 'sehr gut': '6',\n",
       " 'gut': '5',\n",
       " 'gehoben': '4',\n",
       " 'mittel': '3',\n",
       " 'mässig': '2',\n",
       " 'sehr mässig': '1',\n",
       " 'unbekannt': '99'}"
      ]
     },
     "execution_count": 27,
     "metadata": {},
     "output_type": "execute_result"
    }
   ],
   "source": [
    "dict1 = query_dict[dict_list[9]]\n",
    "dict1"
   ]
  },
  {
   "cell_type": "code",
   "execution_count": null,
   "metadata": {},
   "outputs": [],
   "source": [
    "dict1 = query_dict[dict_list[0]]\n",
    "dict2 = query_dict[dict_list[1]]\n",
    "dict3 = query_dict[dict_list[2]]\n",
    "dict4 = query_dict[dict_list[3]]\n",
    "dict5 = query_dict[dict_list[4]]\n",
    "dict6 = query_dict[dict_list[5]]\n",
    "dict7 = query_dict[dict_list[6]]\n",
    "dict8 = query_dict[dict_list[7]]\n",
    "dict9 = query_dict[dict_list[8]]\n",
    "dict10 = query_dict[dict_list[9]]"
   ]
  },
  {
   "cell_type": "code",
   "execution_count": null,
   "metadata": {},
   "outputs": [
    {
     "name": "stderr",
     "output_type": "stream",
     "text": [
      "\r",
      "  0%|          | 0/167 [00:00<?, ?it/s]"
     ]
    }
   ],
   "source": [
    "for GEBIET in tqdm(query_dict[dict_list[0]].keys()):    \n",
    "    for REGION in query_dict[dict_list[1]].keys():        \n",
    "        for HANDLRAUM in query_dict[dict_list[2]].keys():\n",
    "            for VERKJAHR in query_dict[dict_list[3]].keys(): \n",
    "                for ZIMMERK in query_dict[dict_list[4]].keys():                    \n",
    "                    for BAUALTERK in query_dict[dict_list[5]].keys():                        \n",
    "                        for FLAEK in query_dict[dict_list[6]].keys():                            \n",
    "                            for ZONEK in query_dict[dict_list[7]].keys():                                \n",
    "                                for PARZK in query_dict[dict_list[8]].keys():                                    \n",
    "                                    for LAGE in query_dict[dict_list[9]].keys():\n",
    "                                        \n",
    "                                                                                \n",
    "                                        params['GEBIET'] = dict1[GEBIET]\n",
    "                                        params['REGION'] = dict2[REGION]\n",
    "                                        params['HANDLRAUM'] = dict3[HANDLRAUM]\n",
    "                                        params['VERKJAHR'] = dict4[VERKJAHR]\n",
    "                                        params['ZIMMERK'] = dict5[ZIMMERK]\n",
    "                                        params['BAUALTERK'] = dict6[BAUALTERK]\n",
    "                                        params['FLAEK'] = dict7[FLAEK]\n",
    "                                        params['ZONEK'] = dict8[ZONEK]\n",
    "                                        params['PARZK'] = dict9[PARZK]\n",
    "                                        params['LAGE'] = dict10[LAGE]\n",
    "                                        \n",
    "                                        r = requests.get(base_url, params=params, verify=False)\n",
    "                                        result = requests.get(result_url, verify=False)\n",
    "                                        result_content = BeautifulSoup(result.content, 'html.parser')\n",
    "                                        results = result_content.find_all('li')\n",
    "                                        length = len(results)\n",
    "                                        \n",
    "                                        temp = {}\n",
    "                                        temp['GEBIET'] = GEBIET\n",
    "                                        temp['REGION'] = REGION\n",
    "                                        temp['HANDLRAUM'] = HANDLRAUM\n",
    "                                        temp['VERKJAHR'] = VERKJAHR\n",
    "                                        temp['ZIMMERK'] = ZIMMERK\n",
    "                                        temp['BAUALTERK'] = BAUALTERK\n",
    "                                        temp['FLAEK'] = FLAEK\n",
    "                                        temp['PARZK'] = PARZK\n",
    "                                        temp['LAGE'] = LAGE\n",
    "                                        \n",
    "                                        if(length != 0):\n",
    "                                            temp['YEAR'] = results[0].find('b').text\n",
    "                                            temp['TOTAL'] = results[1].find('b').text\n",
    "                                            temp['25 Quantile'] = results[2].find('b').text\n",
    "                                            temp['Median'] = results[3].find('b').text\n",
    "                                            temp['75 Quantile'] = results[4].find('b').text\n",
    "                                        else:\n",
    "                                            temp['YEAR'] = 0\n",
    "                                            temp['TOTAL'] = 0\n",
    "                                            temp['25 Quantile'] = 0\n",
    "                                            temp['Median'] = 0\n",
    "                                            temp['75 Quantile'] = 0\n",
    "                                        \n",
    "                                        final_list.append(temp)\n",
    "                                        "
   ]
  },
  {
   "cell_type": "code",
   "execution_count": 13,
   "metadata": {},
   "outputs": [],
   "source": []
  },
  {
   "cell_type": "code",
   "execution_count": 1,
   "metadata": {},
   "outputs": [
    {
     "ename": "NameError",
     "evalue": "name 'requests' is not defined",
     "output_type": "error",
     "traceback": [
      "\u001b[0;31m---------------------------------------------------------------------------\u001b[0m",
      "\u001b[0;31mNameError\u001b[0m                                 Traceback (most recent call last)",
      "\u001b[0;32m<ipython-input-1-eec4574892fd>\u001b[0m in \u001b[0;36m<module>\u001b[0;34m()\u001b[0m\n\u001b[0;32m----> 1\u001b[0;31m r = requests.get('https://www.web.statistik.zh.ch/cms_handaenderungen/index.php?app=efh',\n\u001b[0m\u001b[1;32m      2\u001b[0m                   params = params, verify=False)\n",
      "\u001b[0;31mNameError\u001b[0m: name 'requests' is not defined"
     ]
    }
   ],
   "source": [
    "r = requests.get('https://www.web.statistik.zh.ch/cms_handaenderungen/index.php?app=efh',\n",
    "                  params = params, verify=False)"
   ]
  },
  {
   "cell_type": "markdown",
   "metadata": {},
   "source": [
    "testing"
   ]
  },
  {
   "cell_type": "code",
   "execution_count": 57,
   "metadata": {},
   "outputs": [],
   "source": [
    "rslt = 'https://www.web.statistik.zh.ch/cms_handaenderungen/includes/ajax_all_results.php'"
   ]
  },
  {
   "cell_type": "code",
   "execution_count": 58,
   "metadata": {},
   "outputs": [
    {
     "name": "stderr",
     "output_type": "stream",
     "text": [
      "/home/kirtan/anaconda3/lib/python3.6/site-packages/urllib3/connectionpool.py:858: InsecureRequestWarning: Unverified HTTPS request is being made. Adding certificate verification is strongly advised. See: https://urllib3.readthedocs.io/en/latest/advanced-usage.html#ssl-warnings\n",
      "  InsecureRequestWarning)\n"
     ]
    }
   ],
   "source": [
    "test = requests.get(rslt, params=params, verify=False)"
   ]
  },
  {
   "cell_type": "code",
   "execution_count": 59,
   "metadata": {},
   "outputs": [],
   "source": [
    "s = BeautifulSoup(test.content, 'html.parser')"
   ]
  },
  {
   "cell_type": "code",
   "execution_count": 60,
   "metadata": {},
   "outputs": [
    {
     "data": {
      "text/plain": [
       " ﻿<ul id=\"resultat_zeile\"><li><span id=\"jahre\" title=\"Jahr|Es werden nur Verkäufe der Jahre 2007 - 2017 angezeigt\">Jahr:<b><br/> 2007 - 2017</b></span></li><li><span id=\"total\" title=\"Verkäufe|Anzahl der Verkäufe mit dem gewählten Filter.\">Verkäufe:<br/><b>50</b></span></li><li><span title=\"25% Quantil|25% der Verkäufe sind kleiner als 629'000 sFr.\">25% Quantil: <br/><b>629'000 sFr.</b><br/> </span></li><li><span id=\"median\" title=\"Median|50% der Preise der Verkäufe sind grösser, 50% kleiner als 772'000 sFr.\">Median: <br/><b><span class=\"median\">772'000 sFr.</span></b></span></li><li><span title=\"75% Quantil|75% der Verkäufe sind kleiner als 868'250 sFr.\">75% Quantil: <br/><b>868'250 sFr.</b><br/></span></li></ul><p style=\"clear:both;\"></p>"
      ]
     },
     "execution_count": 60,
     "metadata": {},
     "output_type": "execute_result"
    }
   ],
   "source": [
    "s"
   ]
  },
  {
   "cell_type": "code",
   "execution_count": 13,
   "metadata": {},
   "outputs": [
    {
     "ename": "NameError",
     "evalue": "name 's' is not defined",
     "output_type": "error",
     "traceback": [
      "\u001b[0;31m---------------------------------------------------------------------------\u001b[0m",
      "\u001b[0;31mNameError\u001b[0m                                 Traceback (most recent call last)",
      "\u001b[0;32m<ipython-input-13-763706cf0d69>\u001b[0m in \u001b[0;36m<module>\u001b[0;34m()\u001b[0m\n\u001b[0;32m----> 1\u001b[0;31m \u001b[0ms\u001b[0m\u001b[0;34m.\u001b[0m\u001b[0mfind_all\u001b[0m\u001b[0;34m(\u001b[0m\u001b[0;34m'li'\u001b[0m\u001b[0;34m)\u001b[0m\u001b[0;34m\u001b[0m\u001b[0m\n\u001b[0m",
      "\u001b[0;31mNameError\u001b[0m: name 's' is not defined"
     ]
    }
   ],
   "source": [
    "s.find_all('li')"
   ]
  },
  {
   "cell_type": "markdown",
   "metadata": {},
   "source": [
    "Define base parameter to start running queries"
   ]
  },
  {
   "cell_type": "code",
   "execution_count": 22,
   "metadata": {},
   "outputs": [],
   "source": [
    "s = BeautifulSoup(r.content, 'html.parser')\n"
   ]
  },
  {
   "cell_type": "code",
   "execution_count": 23,
   "metadata": {},
   "outputs": [
    {
     "data": {
      "text/plain": [
       "[]"
      ]
     },
     "execution_count": 23,
     "metadata": {},
     "output_type": "execute_result"
    }
   ],
   "source": [
    "s.find_all('ul', attrs = { 'id':'resultat_zeile'} )"
   ]
  },
  {
   "cell_type": "code",
   "execution_count": 46,
   "metadata": {},
   "outputs": [],
   "source": [
    "a"
   ]
  },
  {
   "cell_type": "code",
   "execution_count": null,
   "metadata": {},
   "outputs": [],
   "source": []
  }
 ],
 "metadata": {
  "kernelspec": {
   "display_name": "Python 3",
   "language": "python",
   "name": "python3"
  },
  "language_info": {
   "codemirror_mode": {
    "name": "ipython",
    "version": 3
   },
   "file_extension": ".py",
   "mimetype": "text/x-python",
   "name": "python",
   "nbconvert_exporter": "python",
   "pygments_lexer": "ipython3",
   "version": "3.6.5"
  }
 },
 "nbformat": 4,
 "nbformat_minor": 2
}
